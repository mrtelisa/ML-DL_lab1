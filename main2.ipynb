{
  "nbformat": 4,
  "nbformat_minor": 0,
  "metadata": {
    "colab": {
      "provenance": []
    },
    "kernelspec": {
      "name": "python3",
      "display_name": "Python 3"
    },
    "language_info": {
      "name": "python"
    }
  },
  "cells": [
    {
      "cell_type": "markdown",
      "source": [
        "Basic ML (1 real input and 1 real output) - Polinomial regression + Regularization"
      ],
      "metadata": {
        "id": "H20dM4a-atLT"
      }
    },
    {
      "cell_type": "code",
      "source": [
        "import numpy as np # numerical things\n",
        "import numpy.matlib as nml # matricial computations\n",
        "import matplotlib.pyplot as plt # plots"
      ],
      "metadata": {
        "id": "F0bTXucOa_mV"
      },
      "execution_count": 69,
      "outputs": []
    },
    {
      "cell_type": "code",
      "source": [
        "# fixing the seed of the random allows us to obtain the same results\n",
        "np.random.seed(13) # usually better to use a prime number"
      ],
      "metadata": {
        "id": "hgO84M1hbjQB"
      },
      "execution_count": 70,
      "outputs": []
    },
    {
      "cell_type": "code",
      "source": [
        "# oracle = function (math) /system (ML) that I want to aproximate (in this case a parabola)\n",
        "def oracle(x):\n",
        "  return x**2 # I suppose x can be [0,1]"
      ],
      "metadata": {
        "id": "7VI7McW4btjP"
      },
      "execution_count": 71,
      "outputs": []
    },
    {
      "cell_type": "code",
      "source": [
        "# Sample some data from the oracle\n",
        "n = 10 # number of samples of the dataset\n",
        "sigma = 0.2 # sigma = power of the noise; std gaussian noise (I want my measurement to be realistic)\n",
        "nt = 1000 # numer of data we use for test (to see what we actually learnt from the data);\n",
        "          # used to estimate the true error L(f) of the model (not pox in real life bc we do not have the system, here we have the oracle)"
      ],
      "metadata": {
        "id": "Yg3eg14_cIFS"
      },
      "execution_count": 72,
      "outputs": []
    },
    {
      "cell_type": "code",
      "source": [
        "# Collect our dataset\n",
        "x = np.random.rand(n) # randomly sample; x equally distributed in [0,1]\n",
        "y = oracle(x) + sigma * np.random.randn(n) # y is corrupted by a random (Gaussian) noise; corrupts my ability to measure the obstacle"
      ],
      "metadata": {
        "id": "Nqpc0YzNc3UG"
      },
      "execution_count": 73,
      "outputs": []
    },
    {
      "cell_type": "code",
      "source": [
        "# Fot the test\n",
        "xt = np.linspace(0,1,nt)\n",
        "yt = oracle(xt) # not pox in real life (we do not know our system), we can do it because we have the oracle"
      ],
      "metadata": {
        "id": "89ysgQfddQi9"
      },
      "execution_count": 74,
      "outputs": []
    },
    {
      "cell_type": "code",
      "source": [
        "fig, ax = plt.subplots()\n",
        "ax.plot(x,y, 'bo') # blue points\n",
        "ax.plot(xt,yt, 'r') # red line\n",
        "ax.set_xlabel('x')\n",
        "ax.set_ylabel('y')\n",
        "ax.grid() # acrivate the grid\n",
        "plt.show()"
      ],
      "metadata": {
        "colab": {
          "base_uri": "https://localhost:8080/",
          "height": 449
        },
        "id": "sGVWjAzhdc_G",
        "outputId": "b93e8377-7002-49b9-fdd1-f355a73cf138"
      },
      "execution_count": 75,
      "outputs": [
        {
          "output_type": "display_data",
          "data": {
            "text/plain": [
              "<Figure size 640x480 with 1 Axes>"
            ],
            "image/png": "[encoded data removed]"
          },
          "metadata": {}
        }
      ]
    },
    {
      "cell_type": "markdown",
      "source": [
        "Polinomial regression (MSE)"
      ],
      "metadata": {
        "id": "qFTMYZzkfqSi"
      }
    },
    {
      "cell_type": "code",
      "source": [
        "p = 2\n",
        "x = np.asmatrix(x).transpose()\n",
        "y = np.asmatrix(y).transpose()\n",
        "X = nml.ones((n,1))\n",
        "for i in range (1, p+1):\n",
        "  X = np.concatenate((x,np.power(x,i)), axis=1)\n",
        "# (X'* X) c = X'* y\n",
        "c = np.linalg.solve(np.matmul(np.transpose(X),X), np.matmul(np.transpose(X),y))"
      ],
      "metadata": {
        "id": "52iLZRVAfvif"
      },
      "execution_count": 76,
      "outputs": []
    },
    {
      "cell_type": "code",
      "source": [
        "xt = np.asmatrix(xt).transpose()\n",
        "yt = np.asmatrix(yt).transpose()\n",
        "Xt = nml.ones((nt,1))\n",
        "for i in range (1, p+1):\n",
        "  Xt = np.concatenate((xt,np.power(xt,i)), axis=1)\n",
        "yp = np.matmul(Xt,c)"
      ],
      "metadata": {
        "id": "JJc-jQr0gmfZ"
      },
      "execution_count": 77,
      "outputs": []
    },
    {
      "cell_type": "code",
      "source": [
        "err = np.mean(np.power(yt-yp,2))\n",
        "print(\"err:\", err)"
      ],
      "metadata": {
        "colab": {
          "base_uri": "https://localhost:8080/"
        },
        "id": "zfyEbLnBh7a5",
        "outputId": "1e408604-aad5-4525-fec7-104eef867798"
      },
      "execution_count": 78,
      "outputs": [
        {
          "output_type": "stream",
          "name": "stdout",
          "text": [
            "err: 0.004456693799966432\n"
          ]
        }
      ]
    },
    {
      "cell_type": "code",
      "source": [],
      "metadata": {
        "id": "7qXf3oXAjE_a"
      },
      "execution_count": 78,
      "outputs": []
    }
  ]
}